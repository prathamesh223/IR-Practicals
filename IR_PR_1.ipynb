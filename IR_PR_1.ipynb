{
 "cells": [
  {
   "cell_type": "code",
   "execution_count": null,
   "metadata": {},
   "outputs": [],
   "source": [
    "import nltk\n",
    "from nltk.corpus import wordnet,stopwords\n",
    "from nltk.stem import WordNetLemmatizer\n",
    "from nltk.tokenize import word_tokenize\n",
    "import inflect"
   ]
  },
  {
   "cell_type": "code",
   "execution_count": 2,
   "metadata": {},
   "outputs": [],
   "source": [
    "document=\"Wow! Did you know that I have 10 Big red apples, 5 bananas, and 20 oranges, but only #3 are ripe enough to eat, and I still need to buy 15 more tomorrow? It's crazy how much fruit costs these days! 😅\""
   ]
  },
  {
   "cell_type": "code",
   "execution_count": 3,
   "metadata": {},
   "outputs": [
    {
     "name": "stdout",
     "output_type": "stream",
     "text": [
      "wow! did you know that i have 10 big red apples, 5 bananas, and 20 oranges, but only #3 are ripe enough to eat, and i still need to buy 15 more tomorrow? it's crazy how much fruit costs these days! 😅\n"
     ]
    }
   ],
   "source": [
    "document=document.lower()\n",
    "print(document)"
   ]
  },
  {
   "cell_type": "code",
   "execution_count": 4,
   "metadata": {},
   "outputs": [
    {
     "name": "stdout",
     "output_type": "stream",
     "text": [
      "['wow', '!', 'did', 'you', 'know', 'that', 'i', 'have', '10', 'big', 'red', 'apples', ',', '5', 'bananas', ',', 'and', '20', 'oranges', ',', 'but', 'only', '#', '3', 'are', 'ripe', 'enough', 'to', 'eat', ',', 'and', 'i', 'still', 'need', 'to', 'buy', '15', 'more', 'tomorrow', '?', 'it', \"'s\", 'crazy', 'how', 'much', 'fruit', 'costs', 'these', 'days', '!', '😅']\n"
     ]
    }
   ],
   "source": [
    "from nltk.tokenize import word_tokenize\n",
    "tokenized=word_tokenize(document)\n",
    "print(tokenized)"
   ]
  },
  {
   "cell_type": "code",
   "execution_count": 5,
   "metadata": {},
   "outputs": [
    {
     "name": "stdout",
     "output_type": "stream",
     "text": [
      "['wow', 'did', 'you', 'know', 'that', 'i', 'have', '10', 'big', 'red', 'apples', '5', 'bananas', 'and', '20', 'oranges', 'but', 'only', '3', 'are', 'ripe', 'enough', 'to', 'eat', 'and', 'i', 'still', 'need', 'to', 'buy', '15', 'more', 'tomorrow', 'it', 'crazy', 'how', 'much', 'fruit', 'costs', 'these', 'days']\n"
     ]
    }
   ],
   "source": [
    "remove_punc=[i for i in tokenized if(i.isalnum())]\n",
    "print(remove_punc)"
   ]
  },
  {
   "cell_type": "code",
   "execution_count": null,
   "metadata": {},
   "outputs": [],
   "source": [
    "from nltk.corpus import stopwords\n",
    "stop_words=set(stopwords.words('english'))\n",
    "print(stop_words)"
   ]
  },
  {
   "cell_type": "code",
   "execution_count": 7,
   "metadata": {},
   "outputs": [
    {
     "name": "stdout",
     "output_type": "stream",
     "text": [
      "['wow', 'know', '10', 'big', 'red', 'apples', '5', 'bananas', '20', 'oranges', '3', 'ripe', 'enough', 'eat', 'still', 'need', 'buy', '15', 'tomorrow', 'crazy', 'much', 'fruit', 'costs', 'days']\n"
     ]
    }
   ],
   "source": [
    "remove_stopwords=[i for i in remove_punc if i not in stop_words]\n",
    "print(remove_stopwords)"
   ]
  },
  {
   "cell_type": "code",
   "execution_count": 8,
   "metadata": {},
   "outputs": [
    {
     "name": "stdout",
     "output_type": "stream",
     "text": [
      "[('wow', 'NN'), ('know', 'VBP'), ('10', 'CD'), ('big', 'JJ'), ('red', 'JJ'), ('apples', 'NNS'), ('5', 'CD'), ('bananas', 'NNS'), ('20', 'CD'), ('oranges', 'NNS'), ('3', 'CD'), ('ripe', 'JJ'), ('enough', 'RB'), ('eat', 'NN'), ('still', 'RB'), ('need', 'VB'), ('buy', 'VB'), ('15', 'CD'), ('tomorrow', 'NN'), ('crazy', 'NN'), ('much', 'JJ'), ('fruit', 'NN'), ('costs', 'NNS'), ('days', 'NNS')]\n"
     ]
    }
   ],
   "source": [
    "import nltk\n",
    "pos_tagged_tokens = nltk.pos_tag(remove_stopwords)\n",
    "print(pos_tagged_tokens)"
   ]
  },
  {
   "cell_type": "code",
   "execution_count": 9,
   "metadata": {},
   "outputs": [],
   "source": [
    "from nltk.stem import WordNetLemmatizer\n",
    "from nltk.corpus import wordnet\n",
    "\n",
    "lemmatizer = WordNetLemmatizer()\n",
    "\n",
    "def get_wordnet_pos(tag):\n",
    "    if tag.startswith('J'):\n",
    "        return wordnet.ADJ\n",
    "    elif tag.startswith('V'):\n",
    "        return wordnet.VERB\n",
    "    elif tag.startswith('N'):\n",
    "        return wordnet.NOUN\n",
    "    elif tag.startswith('R'):\n",
    "        return wordnet.ADV\n",
    "    else:\n",
    "        return wordnet.NOUN"
   ]
  },
  {
   "cell_type": "code",
   "execution_count": 10,
   "metadata": {},
   "outputs": [
    {
     "name": "stdout",
     "output_type": "stream",
     "text": [
      "['wow', 'know', '10', 'big', 'red', 'apple', '5', 'banana', '20', 'orange', '3', 'ripe', 'enough', 'eat', 'still', 'need', 'buy', '15', 'tomorrow', 'crazy', 'much', 'fruit', 'cost', 'day']\n"
     ]
    }
   ],
   "source": [
    "lemmatized_text = []\n",
    "for token, pos_tag in pos_tagged_tokens:\n",
    "    wordnet_pos = get_wordnet_pos(pos_tag)\n",
    "    lemmatized_word = lemmatizer.lemmatize(token, wordnet_pos)\n",
    "    lemmatized_text.append(lemmatized_word)\n",
    "print(lemmatized_text)"
   ]
  },
  {
   "cell_type": "code",
   "execution_count": 11,
   "metadata": {},
   "outputs": [
    {
     "name": "stdout",
     "output_type": "stream",
     "text": [
      "['wow', 'know', 'ten', 'big', 'red', 'apple', 'five', 'banana', 'twenty', 'orange', 'three', 'ripe', 'enough', 'eat', 'still', 'need', 'buy', 'fifteen', 'tomorrow', 'crazy', 'much', 'fruit', 'cost', 'day']\n"
     ]
    }
   ],
   "source": [
    "import inflect\n",
    "num2str = inflect.engine()\n",
    "nums_to_string=[]\n",
    "for i in lemmatized_text:\n",
    "    if i.isdigit():\n",
    "        nums_to_string.append(num2str.number_to_words(i))\n",
    "    else:\n",
    "        nums_to_string.append(i)\n",
    "print(nums_to_string)"
   ]
  },
  {
   "cell_type": "code",
   "execution_count": null,
   "metadata": {},
   "outputs": [],
   "source": []
  }
 ],
 "metadata": {
  "kernelspec": {
   "display_name": "ds_env",
   "language": "python",
   "name": "python3"
  },
  "language_info": {
   "codemirror_mode": {
    "name": "ipython",
    "version": 3
   },
   "file_extension": ".py",
   "mimetype": "text/x-python",
   "name": "python",
   "nbconvert_exporter": "python",
   "pygments_lexer": "ipython3",
   "version": "3.11.8"
  }
 },
 "nbformat": 4,
 "nbformat_minor": 4
}
