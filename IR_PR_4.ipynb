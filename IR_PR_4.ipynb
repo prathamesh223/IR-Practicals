{
 "cells": [
  {
   "cell_type": "code",
   "execution_count": 1,
   "metadata": {},
   "outputs": [
    {
     "name": "stdout",
     "output_type": "stream",
     "text": [
      "Node 1:  0.1754\n",
      "Node 2:  0.3246\n",
      "Node 3:  0.3246\n",
      "Node 4:  0.1754\n"
     ]
    }
   ],
   "source": [
    "import numpy as np\n",
    "\n",
    "def calculate_pagerank(adjacency_matrix, damping_factor=0.85,max_iterations=100, tolerance=1e-6):\n",
    "    num_nodes = adjacency_matrix. shape[0]\n",
    "    initial_pagerank = np.ones(num_nodes) / num_nodes   \n",
    "    pagerank = initial_pagerank.copy()\n",
    "\n",
    "    for iteration in range(max_iterations):\n",
    "        new_pagerank = np.zeros(num_nodes)\n",
    "        for i in range(num_nodes):\n",
    "            for j in range(num_nodes):\n",
    "                if adjacency_matrix[j, i] == 1:\n",
    "                    outgoing_links = np.sum(adjacency_matrix[j])\n",
    "                    new_pagerank[i] += pagerank[j] / outgoing_links\n",
    "        new_pagerank = (1 - damping_factor) / num_nodes + damping_factor *new_pagerank\n",
    "\n",
    "        if np.linalg.norm(new_pagerank - pagerank) < tolerance:\n",
    "            break\n",
    "\n",
    "        pagerank = new_pagerank\n",
    "\n",
    "    return pagerank\n",
    "\n",
    "\n",
    "adjacency_matrix = np.array([\n",
    "    [0,1,0, 0],\n",
    "    [1,0,1,0],  \n",
    "    [0,1,0, 1],\n",
    "    [0,0,1,0]\n",
    "])\n",
    "\n",
    "pagerank_scores = calculate_pagerank(adjacency_matrix)\n",
    "\n",
    "\n",
    "for i, score in enumerate(pagerank_scores):\n",
    "    print(f\"Node {i + 1}: {score : .4f}\")"
   ]
  },
  {
   "cell_type": "code",
   "execution_count": null,
   "metadata": {},
   "outputs": [],
   "source": []
  }
 ],
 "metadata": {
  "kernelspec": {
   "display_name": "Python 3 (ipykernel)",
   "language": "python",
   "name": "python3"
  },
  "language_info": {
   "codemirror_mode": {
    "name": "ipython",
    "version": 3
   },
   "file_extension": ".py",
   "mimetype": "text/x-python",
   "name": "python",
   "nbconvert_exporter": "python",
   "pygments_lexer": "ipython3",
   "version": "3.11.9"
  }
 },
 "nbformat": 4,
 "nbformat_minor": 4
}
